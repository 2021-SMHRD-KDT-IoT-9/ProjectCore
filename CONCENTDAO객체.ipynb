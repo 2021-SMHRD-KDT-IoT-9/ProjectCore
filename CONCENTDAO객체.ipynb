{
 "cells": [
  {
   "cell_type": "code",
   "execution_count": null,
   "id": "05d203ef",
   "metadata": {},
   "outputs": [],
   "source": [
    "dao = ConcentDAO()\n",
    "count = dao.count_concent_ids()\n",
    "print(count)"
   ]
  },
  {
   "cell_type": "code",
   "execution_count": null,
   "id": "ab98e065",
   "metadata": {},
   "outputs": [],
   "source": [
    "dao = ConcentDAO()\n",
    "concent_ids = dao.get_concent_ids()\n",
    "print(concent_ids)\n"
   ]
  },
  {
   "cell_type": "code",
   "execution_count": null,
   "id": "232ec434",
   "metadata": {},
   "outputs": [],
   "source": [
    "# 없는 값을 concentID set type에 추가하고 그 값을 반환\n",
    "# 이렇게 가져온 concent_ids 리스트를 다른 리스트나 집합(set)과 비교하여 \n",
    "# 중복이나 누락된 항목을 찾을 수 있습니다. \n",
    "# 예를 들어, 다른 리스트 other_list와 concent_ids의 항목 중 \n",
    "# 공통된 항목을 찾으려면 아래와 같이 코드를 작성할 수 있습니다.\n",
    "\n",
    "other_list = [1, 2, 3, 4, 5]\n",
    "common_ids = set(other_list).intersection(concent_ids)\n",
    "print(common_ids)\n",
    "\n",
    "# 이 코드는 other_list와 concent_ids의 항목 중 공통된 항목을 \n",
    "# 찾아서 집합으로 반환합니다. 만약 공통된 항목이 없다면 빈 집합을 반환합니다.\n",
    "\n",
    "\n",
    "\n"
   ]
  },
  {
   "cell_type": "code",
   "execution_count": null,
   "id": "ac087b1e",
   "metadata": {},
   "outputs": [],
   "source": []
  },
  {
   "cell_type": "code",
   "execution_count": null,
   "id": "f5d64f4a",
   "metadata": {},
   "outputs": [],
   "source": []
  }
 ],
 "metadata": {
  "kernelspec": {
   "display_name": "Python 3 (ipykernel)",
   "language": "python",
   "name": "python3"
  },
  "language_info": {
   "codemirror_mode": {
    "name": "ipython",
    "version": 3
   },
   "file_extension": ".py",
   "mimetype": "text/x-python",
   "name": "python",
   "nbconvert_exporter": "python",
   "pygments_lexer": "ipython3",
   "version": "3.9.13"
  }
 },
 "nbformat": 4,
 "nbformat_minor": 5
}
