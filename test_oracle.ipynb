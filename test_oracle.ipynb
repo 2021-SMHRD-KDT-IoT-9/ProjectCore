{
 "cells": [
  {
   "cell_type": "code",
   "execution_count": 1,
   "id": "9d2f3826",
   "metadata": {},
   "outputs": [],
   "source": [
    "import cx_Oracle as cx\n",
    "conn = cx.connect(\"campus_b_230329_3\",\"smhrd3\",\"project-db-stu3.ddns.net:1525/XE\") "
   ]
  },
  {
   "cell_type": "code",
   "execution_count": 2,
   "id": "e1eb334d",
   "metadata": {},
   "outputs": [
    {
     "name": "stdout",
     "output_type": "stream",
     "text": [
      "('2023-04-04', 's_test11', 'aaaa22', '1', '15:51')\n",
      "('2023-04-04', 'm_test1', 'd2d2', '1', '16:48')\n",
      "('2023-04-04', 'm_test3', '5555222', '1', '17:05')\n",
      "('2023-04-04', 's_test4', '49t', '0', '14:49')\n",
      "('2023-04-04', 's_test5', '52tt', '0', '14:52')\n",
      "('2023-04-04', 'm_test1', '21e999', '1', '17:09')\n",
      "('2023-04-04', 'i152315', '시험중', '0', '00:01')\n",
      "('2023-04-04', 'S_Test1', '33분 테스트', '1', '14:33')\n",
      "('2023-04-04', 's_test8', 'wpqkf', '1', '15:29')\n",
      "('2023-04-04', 's_test14', 'd2', '1', '16:06')\n",
      "('2023-04-04', 'm_test1', '2020rwer', '1', '17:20')\n",
      "('2023-04-04', 'stest1', '2626test1', '1', '17:26')\n",
      "('2023-04-04', 'stest2', '2626test2', '0', '17:26')\n",
      "('2023-04-04', 'stest3', '27273333', '1', '17:27')\n",
      "('2023-04-04', 'm_test2', '222ddd', '1', '16:57')\n",
      "('2023-04-04', 'm_test2', '55353', '1', '17:23')\n",
      "('2023-04-04', 'S_Test2', '34분테스트', '0', '14:34')\n",
      "('2023-04-04', 'S_Test3', 'min43', '1', '14:43')\n",
      "('2023-04-04', 'intest', '3535335535353ddd', '1', '17:35')\n",
      "('2023-05-03', 'aaa', 'wdq', '1', '00:00')\n",
      "('2023-04-04', 's_test10', 'ㄷㄹ', '1', '15:43')\n",
      "('2023-04-04', 's_test13', 'dwq', '1', '16:02')\n",
      "('2023-04-04', 'm_test2', '1515qqq', '1', '17:15')\n",
      "('2023-04-04', 's_test6', '15tt', '1', '15:00')\n",
      "('2023-04-04', 's_test7', '17minTT', '0', '15:17')\n",
      "('2023-04-04', 's_test9', 'ㅁㅁㅈㅂㅇ', '1', '15:34')\n",
      "('2023-04-04', 's_test12', '5858', '1', '15:58')\n",
      "('2023-04-04', 's_test13', None, '1', '16:02')\n",
      "[('2023-04-04', 's_test11', 'aaaa22', '1', '15:51'), ('2023-04-04', 'm_test1', 'd2d2', '1', '16:48'), ('2023-04-04', 'm_test3', '5555222', '1', '17:05'), ('2023-04-04', 's_test4', '49t', '0', '14:49'), ('2023-04-04', 's_test5', '52tt', '0', '14:52'), ('2023-04-04', 'm_test1', '21e999', '1', '17:09'), ('2023-04-04', 'i152315', '시험중', '0', '00:01'), ('2023-04-04', 'S_Test1', '33분 테스트', '1', '14:33'), ('2023-04-04', 's_test8', 'wpqkf', '1', '15:29'), ('2023-04-04', 's_test14', 'd2', '1', '16:06'), ('2023-04-04', 'm_test1', '2020rwer', '1', '17:20'), ('2023-04-04', 'stest1', '2626test1', '1', '17:26'), ('2023-04-04', 'stest2', '2626test2', '0', '17:26'), ('2023-04-04', 'stest3', '27273333', '1', '17:27'), ('2023-04-04', 'm_test2', '222ddd', '1', '16:57'), ('2023-04-04', 'm_test2', '55353', '1', '17:23'), ('2023-04-04', 'S_Test2', '34분테스트', '0', '14:34'), ('2023-04-04', 'S_Test3', 'min43', '1', '14:43'), ('2023-04-04', 'intest', '3535335535353ddd', '1', '17:35'), ('2023-05-03', 'aaa', 'wdq', '1', '00:00'), ('2023-04-04', 's_test10', 'ㄷㄹ', '1', '15:43'), ('2023-04-04', 's_test13', 'dwq', '1', '16:02'), ('2023-04-04', 'm_test2', '1515qqq', '1', '17:15'), ('2023-04-04', 's_test6', '15tt', '1', '15:00'), ('2023-04-04', 's_test7', '17minTT', '0', '15:17'), ('2023-04-04', 's_test9', 'ㅁㅁㅈㅂㅇ', '1', '15:34'), ('2023-04-04', 's_test12', '5858', '1', '15:58'), ('2023-04-04', 's_test13', None, '1', '16:02')]\n"
     ]
    }
   ],
   "source": [
    "cur = conn.cursor()\n",
    "cur.execute(\"select * from T_ALARM\") #sql 쿼리 작성\n",
    "data = []\n",
    "for c in cur:\n",
    "    data.append(c)\n",
    "    print(c)\n",
    "    \n",
    "cur.close()\n",
    "conn.close()\n",
    "\n",
    "print(data)"
   ]
  },
  {
   "cell_type": "code",
   "execution_count": 3,
   "id": "45709c5a",
   "metadata": {},
   "outputs": [
    {
     "name": "stdout",
     "output_type": "stream",
     "text": [
      "             0         1                 2  3      4\n",
      "0   2023-04-04  s_test11            aaaa22  1  15:51\n",
      "1   2023-04-04   m_test1              d2d2  1  16:48\n",
      "2   2023-04-04   m_test3           5555222  1  17:05\n",
      "3   2023-04-04   s_test4               49t  0  14:49\n",
      "4   2023-04-04   s_test5              52tt  0  14:52\n",
      "5   2023-04-04   m_test1            21e999  1  17:09\n",
      "6   2023-04-04   i152315               시험중  0  00:01\n",
      "7   2023-04-04   S_Test1           33분 테스트  1  14:33\n",
      "8   2023-04-04   s_test8             wpqkf  1  15:29\n",
      "9   2023-04-04  s_test14                d2  1  16:06\n",
      "10  2023-04-04   m_test1          2020rwer  1  17:20\n",
      "11  2023-04-04    stest1         2626test1  1  17:26\n",
      "12  2023-04-04    stest2         2626test2  0  17:26\n",
      "13  2023-04-04    stest3          27273333  1  17:27\n",
      "14  2023-04-04   m_test2            222ddd  1  16:57\n",
      "15  2023-04-04   m_test2             55353  1  17:23\n",
      "16  2023-04-04   S_Test2            34분테스트  0  14:34\n",
      "17  2023-04-04   S_Test3             min43  1  14:43\n",
      "18  2023-04-04    intest  3535335535353ddd  1  17:35\n",
      "19  2023-05-03       aaa               wdq  1  00:00\n",
      "20  2023-04-04  s_test10                ㄷㄹ  1  15:43\n",
      "21  2023-04-04  s_test13               dwq  1  16:02\n",
      "22  2023-04-04   m_test2           1515qqq  1  17:15\n",
      "23  2023-04-04   s_test6              15tt  1  15:00\n",
      "24  2023-04-04   s_test7           17minTT  0  15:17\n",
      "25  2023-04-04   s_test9             ㅁㅁㅈㅂㅇ  1  15:34\n",
      "26  2023-04-04  s_test12              5858  1  15:58\n",
      "27  2023-04-04  s_test13              None  1  16:02\n"
     ]
    }
   ],
   "source": [
    "import pandas as pd\n",
    "df=pd.DataFrame(data) #데이터프레임으로 불러오기\n",
    "print(df)"
   ]
  },
  {
   "cell_type": "code",
   "execution_count": 86,
   "id": "f26dc97f",
   "metadata": {},
   "outputs": [
    {
     "name": "stdout",
     "output_type": "stream",
     "text": [
      "1\n"
     ]
    }
   ],
   "source": [
    "conn = cx.connect(\"campus_b_230329_3\",\"smhrd3\",\"project-db-stu3.ddns.net:1525/XE\") \n",
    "cs = conn.cursor()\n",
    "sql = \"insert into T_CONCENT (T_CONID,T_DATE,T_ENERGY) values (:1,:2,:3)\"\n",
    "cs.execute(sql,('5','5','5'))\n",
    "print(cs.rowcount)\n",
    "\n",
    "cs.close()\n",
    "conn.commit()\n",
    "conn.close()"
   ]
  },
  {
   "cell_type": "code",
   "execution_count": 61,
   "id": "859e0f7b",
   "metadata": {},
   "outputs": [
    {
     "name": "stdout",
     "output_type": "stream",
     "text": [
      "1\n"
     ]
    }
   ],
   "source": [
    "conn = cx.connect(\"campus_b_230329_3\",\"smhrd3\",\"project-db-stu3.ddns.net:1525/XE\") \n",
    "cs = conn.cursor()\n",
    "sql = \"delete from T_CONCENT where T_DATE = 3\"\n",
    "cs.execute(sql)\n",
    "print(cs.rowcount)\n",
    "\n",
    "cs.close()\n",
    "conn.commit()\n",
    "conn.close()"
   ]
  },
  {
   "cell_type": "code",
   "execution_count": 89,
   "id": "4ac2ee58",
   "metadata": {},
   "outputs": [
    {
     "name": "stdout",
     "output_type": "stream",
     "text": [
      "3\n",
      "4\n",
      "5\n",
      "3\n"
     ]
    }
   ],
   "source": [
    "conn = cx.connect(\"campus_b_230329_3\",\"smhrd3\",\"project-db-stu3.ddns.net:1525/XE\") \n",
    "cs = conn.cursor()\n",
    "sql = \"select * from T_CONCENT\"\n",
    "rs = cs.execute(sql)\n",
    "\n",
    "\n",
    "for record in rs:\n",
    "    print(record[0])\n",
    "print(rs.rowcount)\n",
    "\n",
    "cs.close()\n",
    "conn.commit()\n",
    "conn.close()"
   ]
  },
  {
   "cell_type": "code",
   "execution_count": null,
   "id": "fb69b814",
   "metadata": {},
   "outputs": [],
   "source": [
    "import sqlite3\n",
    "\n",
    "class MyDAO:\n",
    "    def __init__(self, db_file):\n",
    "        self.conn = sqlite3.connect(db_file)\n",
    "        self.cursor = self.conn.cursor()\n",
    "        \n",
    "    def create_table(self):\n",
    "        self.cursor.execute('''CREATE TABLE IF NOT EXISTS users \n",
    "            (id INTEGER PRIMARY KEY, name TEXT, age INTEGER)''')\n",
    "        self.conn.commit()\n",
    "\n",
    "    def insert_user(self, name, age):\n",
    "        self.cursor.execute('''INSERT INTO users (name, age) \n",
    "            VALUES (?, ?)''', (name, age))\n",
    "        self.conn.commit()\n",
    "\n",
    "    def get_users(self):\n",
    "        self.cursor.execute(\"SELECT * FROM users\")\n",
    "        rows = self.cursor.fetchall()\n",
    "        return rows\n",
    "\n",
    "    def update_user_age(self, id, age):\n",
    "        self.cursor.execute(\"UPDATE users SET age=? WHERE id=?\", (age, id))\n",
    "        self.conn.commit()\n",
    "\n",
    "    def delete_user(self, id):\n",
    "        self.cursor.execute(\"DELETE FROM users WHERE id=?\", (id,))\n",
    "        self.conn.commit()\n",
    "\n",
    "    def __del__(self):\n",
    "        self.conn.close()"
   ]
  },
  {
   "cell_type": "code",
   "execution_count": null,
   "id": "ccad6374",
   "metadata": {},
   "outputs": [],
   "source": [
    "import sqlite3\n",
    "\n",
    "class MyDAO:\n",
    "    def __init__(self, db_file):\n",
    "        self.conn = sqlite3.connect(db_file)\n",
    "        self.cursor = self.conn.cursor()\n",
    "        \n",
    "    def create_table(self):\n",
    "        self.cursor.execute('''CREATE TABLE IF NOT EXISTS users \n",
    "            (id INTEGER PRIMARY KEY, name TEXT, age INTEGER, consent_id INTEGER)''')\n",
    "        self.conn.commit()\n",
    "\n",
    "    def insert_user(self, name, age, consent_id):\n",
    "        self.cursor.execute('''INSERT INTO users (name, age, consent_id) \n",
    "            VALUES (?, ?, ?)''', (name, age, consent_id))\n",
    "        self.conn.commit()\n",
    "\n",
    "    def get_users(self):\n",
    "        self.cursor.execute(\"SELECT * FROM users\")\n",
    "        rows = self.cursor.fetchall()\n",
    "        return rows\n",
    "\n",
    "    def update_user_age(self, id, age):\n",
    "        self.cursor.execute(\"UPDATE users SET age=? WHERE id=?\", (age, id))\n",
    "        self.conn.commit()\n",
    "\n",
    "    def delete_user(self, id):\n",
    "        self.cursor.execute(\"DELETE FROM users WHERE id=?\", (id,))\n",
    "        self.conn.commit()\n",
    "    \n",
    "    def get_users_by_consent_id(self, consent_id):\n",
    "        self.cursor.execute(\"SELECT * FROM users WHERE consent_id=?\", (consent_id,))\n",
    "        rows = self.cursor.fetchall()\n",
    "        return rows\n",
    "\n",
    "    def __del__(self):\n",
    "        self.conn.close()"
   ]
  },
  {
   "cell_type": "code",
   "execution_count": null,
   "id": "f593bb3c",
   "metadata": {},
   "outputs": [],
   "source": []
  },
  {
   "cell_type": "code",
   "execution_count": null,
   "id": "071371db",
   "metadata": {},
   "outputs": [],
   "source": []
  },
  {
   "cell_type": "code",
   "execution_count": null,
   "id": "048acb2a",
   "metadata": {},
   "outputs": [],
   "source": []
  },
  {
   "cell_type": "code",
   "execution_count": null,
   "id": "813f2ac8",
   "metadata": {},
   "outputs": [],
   "source": []
  },
  {
   "cell_type": "code",
   "execution_count": null,
   "id": "671f0ac3",
   "metadata": {},
   "outputs": [],
   "source": []
  },
  {
   "cell_type": "code",
   "execution_count": null,
   "id": "c1c5c819",
   "metadata": {},
   "outputs": [],
   "source": []
  }
 ],
 "metadata": {
  "kernelspec": {
   "display_name": "Python 3 (ipykernel)",
   "language": "python",
   "name": "python3"
  },
  "language_info": {
   "codemirror_mode": {
    "name": "ipython",
    "version": 3
   },
   "file_extension": ".py",
   "mimetype": "text/x-python",
   "name": "python",
   "nbconvert_exporter": "python",
   "pygments_lexer": "ipython3",
   "version": "3.9.13"
  }
 },
 "nbformat": 4,
 "nbformat_minor": 5
}
