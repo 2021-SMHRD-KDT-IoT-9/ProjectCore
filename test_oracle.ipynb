{
 "cells": [
  {
   "cell_type": "code",
   "execution_count": 48,
   "id": "9d2f3826",
   "metadata": {},
   "outputs": [],
   "source": [
    "import cx_Oracle as cx\n",
    "conn = cx.connect(\"campus_b_230329_3\",\"smhrd3\",\"project-db-stu3.ddns.net:1525/XE\") "
   ]
  },
  {
   "cell_type": "code",
   "execution_count": 49,
   "id": "e1eb334d",
   "metadata": {},
   "outputs": [
    {
     "name": "stdout",
     "output_type": "stream",
     "text": [
      "('tuser3', '1234')\n",
      "('tuser6', '1234')\n",
      "('aaaa', '1234')\n",
      "('abcd', '1234')\n",
      "('tuser2', '1234')\n",
      "('tuser4', '1234')\n",
      "('tuser1', '1234')\n",
      "[('tuser3', '1234'), ('tuser6', '1234'), ('aaaa', '1234'), ('abcd', '1234'), ('tuser2', '1234'), ('tuser4', '1234'), ('tuser1', '1234')]\n"
     ]
    }
   ],
   "source": [
    "cur = conn.cursor()\n",
    "cur.execute(\"select * from T_MEMBER\") #sql 쿼리 작성\n",
    "data = []\n",
    "for c in cur:\n",
    "    data.append(c)\n",
    "    print(c)\n",
    "    \n",
    "cur.close()\n",
    "conn.close()\n",
    "\n",
    "print(data)"
   ]
  },
  {
   "cell_type": "code",
   "execution_count": 50,
   "id": "45709c5a",
   "metadata": {},
   "outputs": [
    {
     "name": "stdout",
     "output_type": "stream",
     "text": [
      "        0     1\n",
      "0  tuser3  1234\n",
      "1  tuser6  1234\n",
      "2    aaaa  1234\n",
      "3    abcd  1234\n",
      "4  tuser2  1234\n",
      "5  tuser4  1234\n",
      "6  tuser1  1234\n"
     ]
    }
   ],
   "source": [
    "import pandas as pd\n",
    "df=pd.DataFrame(data) #데이터프레임으로 불러오기\n",
    "print(df)"
   ]
  },
  {
   "cell_type": "code",
   "execution_count": null,
   "id": "f26dc97f",
   "metadata": {},
   "outputs": [],
   "source": []
  },
  {
   "cell_type": "code",
   "execution_count": null,
   "id": "859e0f7b",
   "metadata": {},
   "outputs": [],
   "source": []
  },
  {
   "cell_type": "code",
   "execution_count": null,
   "id": "4ac2ee58",
   "metadata": {},
   "outputs": [],
   "source": []
  },
  {
   "cell_type": "code",
   "execution_count": null,
   "id": "fb69b814",
   "metadata": {},
   "outputs": [],
   "source": []
  },
  {
   "cell_type": "code",
   "execution_count": null,
   "id": "ccad6374",
   "metadata": {},
   "outputs": [],
   "source": []
  },
  {
   "cell_type": "code",
   "execution_count": null,
   "id": "f593bb3c",
   "metadata": {},
   "outputs": [],
   "source": []
  },
  {
   "cell_type": "code",
   "execution_count": null,
   "id": "071371db",
   "metadata": {},
   "outputs": [],
   "source": []
  },
  {
   "cell_type": "code",
   "execution_count": null,
   "id": "048acb2a",
   "metadata": {},
   "outputs": [],
   "source": []
  },
  {
   "cell_type": "code",
   "execution_count": null,
   "id": "813f2ac8",
   "metadata": {},
   "outputs": [],
   "source": []
  },
  {
   "cell_type": "code",
   "execution_count": null,
   "id": "671f0ac3",
   "metadata": {},
   "outputs": [],
   "source": []
  },
  {
   "cell_type": "code",
   "execution_count": null,
   "id": "c1c5c819",
   "metadata": {},
   "outputs": [],
   "source": []
  }
 ],
 "metadata": {
  "kernelspec": {
   "display_name": "Python 3 (ipykernel)",
   "language": "python",
   "name": "python3"
  },
  "language_info": {
   "codemirror_mode": {
    "name": "ipython",
    "version": 3
   },
   "file_extension": ".py",
   "mimetype": "text/x-python",
   "name": "python",
   "nbconvert_exporter": "python",
   "pygments_lexer": "ipython3",
   "version": "3.9.13"
  }
 },
 "nbformat": 4,
 "nbformat_minor": 5
}
