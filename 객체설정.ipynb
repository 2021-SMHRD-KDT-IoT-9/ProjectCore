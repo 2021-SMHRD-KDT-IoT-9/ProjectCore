{
 "cells": [
  {
   "cell_type": "code",
   "execution_count": null,
   "id": "e2c8de2d",
   "metadata": {},
   "outputs": [],
   "source": [
    "import sqlite3\n",
    "\n",
    "class MyDAO:\n",
    "    def __init__(self, db_file):\n",
    "        self.conn = sqlite3.connect(db_file)\n",
    "        self.cursor = self.conn.cursor()\n",
    "        \n",
    "    def create_table(self):\n",
    "        self.cursor.execute('''CREATE TABLE IF NOT EXISTS users \n",
    "            (id INTEGER PRIMARY KEY, name TEXT, age INTEGER)''')\n",
    "        self.conn.commit()\n",
    "\n",
    "    def insert_user(self, name, age):\n",
    "        self.cursor.execute('''INSERT INTO users (name, age) \n",
    "            VALUES (?, ?)''', (name, age))\n",
    "        self.conn.commit()\n",
    "\n",
    "    def get_users(self):\n",
    "        self.cursor.execute(\"SELECT * FROM users\")\n",
    "        rows = self.cursor.fetchall()\n",
    "        return rows\n",
    "\n",
    "    def update_user_age(self, id, age):\n",
    "        self.cursor.execute(\"UPDATE users SET age=? WHERE id=?\", (age, id))\n",
    "        self.conn.commit()\n",
    "\n",
    "    def delete_user(self, id):\n",
    "        self.cursor.execute(\"DELETE FROM users WHERE id=?\", (id,))\n",
    "        self.conn.commit()\n",
    "\n",
    "    def __del__(self):\n",
    "        self.conn.close()"
   ]
  },
  {
   "cell_type": "code",
   "execution_count": null,
   "id": "5410b33f",
   "metadata": {},
   "outputs": [],
   "source": [
    "import sqlite3\n",
    "\n",
    "class MyDAO:\n",
    "    def __init__(self, db_file):\n",
    "        self.conn = sqlite3.connect(db_file)\n",
    "        self.cursor = self.conn.cursor()\n",
    "        \n",
    "    def create_table(self):\n",
    "        self.cursor.execute('''CREATE TABLE IF NOT EXISTS users \n",
    "            (id INTEGER PRIMARY KEY, name TEXT, age INTEGER, consent_id INTEGER)''')\n",
    "        self.conn.commit()\n",
    "\n",
    "    def insert_user(self, name, age, consent_id):\n",
    "        self.cursor.execute('''INSERT INTO users (name, age, consent_id) \n",
    "            VALUES (?, ?, ?)''', (name, age, consent_id))\n",
    "        self.conn.commit()\n",
    "\n",
    "    def get_users(self):\n",
    "        self.cursor.execute(\"SELECT * FROM users\")\n",
    "        rows = self.cursor.fetchall()\n",
    "        return rows\n",
    "\n",
    "    def update_user_age(self, id, age):\n",
    "        self.cursor.execute(\"UPDATE users SET age=? WHERE id=?\", (age, id))\n",
    "        self.conn.commit()\n",
    "\n",
    "    def delete_user(self, id):\n",
    "        self.cursor.execute(\"DELETE FROM users WHERE id=?\", (id,))\n",
    "        self.conn.commit()\n",
    "    \n",
    "    def get_users_by_consent_id(self, consent_id):\n",
    "        self.cursor.execute(\"SELECT * FROM users WHERE consent_id=?\", (consent_id,))\n",
    "        rows = self.cursor.fetchall()\n",
    "        return rows\n",
    "\n",
    "    def __del__(self):\n",
    "        self.conn.close()"
   ]
  },
  {
   "cell_type": "code",
   "execution_count": null,
   "id": "ab03a1d5",
   "metadata": {},
   "outputs": [],
   "source": []
  },
  {
   "cell_type": "code",
   "execution_count": null,
   "id": "02f35d90",
   "metadata": {},
   "outputs": [],
   "source": []
  },
  {
   "cell_type": "code",
   "execution_count": null,
   "id": "1bfa2838",
   "metadata": {},
   "outputs": [],
   "source": []
  },
  {
   "cell_type": "code",
   "execution_count": null,
   "id": "07f6482f",
   "metadata": {},
   "outputs": [],
   "source": []
  },
  {
   "cell_type": "code",
   "execution_count": null,
   "id": "2476f2e5",
   "metadata": {},
   "outputs": [],
   "source": []
  },
  {
   "cell_type": "code",
   "execution_count": null,
   "id": "34fd8a6a",
   "metadata": {},
   "outputs": [],
   "source": []
  },
  {
   "cell_type": "code",
   "execution_count": null,
   "id": "e749adf2",
   "metadata": {},
   "outputs": [],
   "source": []
  },
  {
   "cell_type": "code",
   "execution_count": null,
   "id": "32952c39",
   "metadata": {},
   "outputs": [],
   "source": []
  },
  {
   "cell_type": "code",
   "execution_count": null,
   "id": "cac3b302",
   "metadata": {},
   "outputs": [],
   "source": []
  },
  {
   "cell_type": "code",
   "execution_count": null,
   "id": "334a48c4",
   "metadata": {},
   "outputs": [],
   "source": []
  },
  {
   "cell_type": "code",
   "execution_count": null,
   "id": "e7b51a77",
   "metadata": {},
   "outputs": [],
   "source": []
  },
  {
   "cell_type": "code",
   "execution_count": null,
   "id": "73dd2aa5",
   "metadata": {},
   "outputs": [],
   "source": []
  },
  {
   "cell_type": "code",
   "execution_count": null,
   "id": "ed7300b4",
   "metadata": {},
   "outputs": [],
   "source": []
  },
  {
   "cell_type": "code",
   "execution_count": null,
   "id": "e59cbf1e",
   "metadata": {},
   "outputs": [],
   "source": []
  },
  {
   "cell_type": "code",
   "execution_count": null,
   "id": "233884c8",
   "metadata": {},
   "outputs": [],
   "source": []
  },
  {
   "cell_type": "code",
   "execution_count": null,
   "id": "92524c2a",
   "metadata": {},
   "outputs": [],
   "source": []
  },
  {
   "cell_type": "code",
   "execution_count": null,
   "id": "9b233934",
   "metadata": {},
   "outputs": [],
   "source": []
  },
  {
   "cell_type": "code",
   "execution_count": null,
   "id": "afd6cdfe",
   "metadata": {},
   "outputs": [],
   "source": []
  },
  {
   "cell_type": "code",
   "execution_count": null,
   "id": "7389634c",
   "metadata": {},
   "outputs": [],
   "source": []
  }
 ],
 "metadata": {
  "kernelspec": {
   "display_name": "Python 3 (ipykernel)",
   "language": "python",
   "name": "python3"
  },
  "language_info": {
   "codemirror_mode": {
    "name": "ipython",
    "version": 3
   },
   "file_extension": ".py",
   "mimetype": "text/x-python",
   "name": "python",
   "nbconvert_exporter": "python",
   "pygments_lexer": "ipython3",
   "version": "3.9.13"
  }
 },
 "nbformat": 4,
 "nbformat_minor": 5
}
