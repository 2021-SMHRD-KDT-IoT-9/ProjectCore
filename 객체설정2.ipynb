{
 "cells": [
  {
   "cell_type": "code",
   "execution_count": null,
   "id": "bbf84e3e",
   "metadata": {},
   "outputs": [],
   "source": [
    "#이름, 전화, 주소\n",
    "#VO(Value object) / DTO(Data Trangfer Object)\n",
    "class Member:\n",
    "    def __init__(self, name='', tel='', address=''):\n",
    "        self.name = name\n",
    "        self.tel = tel\n",
    "        self.address = address\n",
    "\n",
    "    def printMember(self):\n",
    "        print('name:' , self.name)\n",
    "        print('tel:' , self.tel)\n",
    "        print('address:' , self.address)\n",
    "        print()\n",
    "\n",
    "#DAO(Database Access object)\n",
    "class MemDao:   #저장소 관련 작업만 담당\n",
    "    def __init__(self):\n",
    "        self.datas = []\n",
    "\n",
    "    def insert(self, m):\n",
    "        self.datas.append(m)\n",
    "\n",
    "    def select(self, name):\n",
    "        for i in self.datas:\n",
    "            if i.name == name:\n",
    "                return  i   #검색된 객체의 참조값 반환. 객체에 다이렉트로 접근\n",
    "\n",
    "    def selectAll(self):\n",
    "        return self.datas\n",
    "\n",
    "    #def update(self,m):   #수정할사람의 이름, 새전화, 새주소\n",
    "\n",
    "    def delete(self,m):\n",
    "        self.datas.remove(m)\n",
    "\n",
    "#Service\n",
    "class MemService:\n",
    "    def __init__(self):\n",
    "        self.dao = MemDao()\n",
    "\n",
    "    def addMember(self):\n",
    "        name = input('name:')\n",
    "        tel = input('tel:')\n",
    "        address = input('adress:')\n",
    "        m = Member(name, tel, address)\n",
    "        self.dao.insert(m)\n",
    "\n",
    "    def printMember(self):\n",
    "        name = input('search name:')\n",
    "        m = self.dao.select(name)\n",
    "        if m == None:\n",
    "            print('없는 이름')\n",
    "        else:\n",
    "            m.printMember()\n",
    "\n",
    "    def printAll(self):\n",
    "        datas = self.dao.selectAll()\n",
    "        for i in datas:\n",
    "            i.printMember()\n",
    "\n",
    "    def editMember(self):\n",
    "        name = input('수정할 사람 이름:')\n",
    "        m = self.dao.select(name)\n",
    "        if m == None:\n",
    "            print('없는 이름')\n",
    "\n",
    "        else:\n",
    "            m.tel = input('new tel:')\n",
    "            m.address = input('new address:')\n",
    "\n",
    "    def delMember(self):\n",
    "        name = input('삭제할 사람 이름:')\n",
    "        m = self.dao.select(name)\n",
    "        if m == None:\n",
    "            print('없는 이름')\n",
    "        else:\n",
    "            self.dao.delete(m)\n",
    "\n",
    "class Menu:\n",
    "    def __init__(self):\n",
    "        self.service = MemService()\n",
    "\n",
    "    def run(self):\n",
    "        while True:\n",
    "            menu=int(input('1.등록 2.검색 3.수정 4.삭제 5.전체출력 6.종료'))\n",
    "            if menu == 1:\n",
    "                self.service.addMember()\n",
    "            if menu == 2:\n",
    "                self.service.printMember()\n",
    "            if menu == 3:\n",
    "                self.service.editMember()\n",
    "            if menu == 4:\n",
    "                self.service.delMember()\n",
    "            if menu == 5:\n",
    "                self.service.printAll()\n",
    "            if menu == 6:\n",
    "                break\n",
    "\n",
    "\n",
    "def main():\n",
    "    m= Menu()\n",
    "    m.run()\n",
    "\n",
    "main()"
   ]
  },
  {
   "cell_type": "code",
   "execution_count": null,
   "id": "b84ae2df",
   "metadata": {},
   "outputs": [],
   "source": []
  },
  {
   "cell_type": "code",
   "execution_count": null,
   "id": "50f7e473",
   "metadata": {},
   "outputs": [],
   "source": []
  },
  {
   "cell_type": "code",
   "execution_count": null,
   "id": "c1b88402",
   "metadata": {},
   "outputs": [],
   "source": []
  },
  {
   "cell_type": "code",
   "execution_count": null,
   "id": "8a115b13",
   "metadata": {},
   "outputs": [],
   "source": []
  },
  {
   "cell_type": "code",
   "execution_count": null,
   "id": "8aef6f78",
   "metadata": {},
   "outputs": [],
   "source": []
  },
  {
   "cell_type": "code",
   "execution_count": null,
   "id": "353263b8",
   "metadata": {},
   "outputs": [],
   "source": []
  },
  {
   "cell_type": "code",
   "execution_count": null,
   "id": "65ade0b2",
   "metadata": {},
   "outputs": [],
   "source": []
  },
  {
   "cell_type": "code",
   "execution_count": null,
   "id": "bcf7b9d8",
   "metadata": {},
   "outputs": [],
   "source": []
  },
  {
   "cell_type": "code",
   "execution_count": null,
   "id": "2dd98e37",
   "metadata": {},
   "outputs": [],
   "source": []
  },
  {
   "cell_type": "code",
   "execution_count": null,
   "id": "3220a9f4",
   "metadata": {},
   "outputs": [],
   "source": []
  },
  {
   "cell_type": "code",
   "execution_count": null,
   "id": "0514ce66",
   "metadata": {},
   "outputs": [],
   "source": []
  },
  {
   "cell_type": "code",
   "execution_count": null,
   "id": "3dcba435",
   "metadata": {},
   "outputs": [],
   "source": []
  },
  {
   "cell_type": "code",
   "execution_count": null,
   "id": "410ee174",
   "metadata": {},
   "outputs": [],
   "source": []
  },
  {
   "cell_type": "code",
   "execution_count": null,
   "id": "a28c4717",
   "metadata": {},
   "outputs": [],
   "source": []
  },
  {
   "cell_type": "code",
   "execution_count": null,
   "id": "a2e2b26c",
   "metadata": {},
   "outputs": [],
   "source": []
  },
  {
   "cell_type": "code",
   "execution_count": null,
   "id": "64a4448a",
   "metadata": {},
   "outputs": [],
   "source": []
  },
  {
   "cell_type": "code",
   "execution_count": null,
   "id": "4336ee5a",
   "metadata": {},
   "outputs": [],
   "source": []
  },
  {
   "cell_type": "code",
   "execution_count": null,
   "id": "b62f07f7",
   "metadata": {},
   "outputs": [],
   "source": []
  },
  {
   "cell_type": "code",
   "execution_count": null,
   "id": "f627957f",
   "metadata": {},
   "outputs": [],
   "source": []
  },
  {
   "cell_type": "code",
   "execution_count": null,
   "id": "50cac33d",
   "metadata": {},
   "outputs": [],
   "source": []
  },
  {
   "cell_type": "code",
   "execution_count": null,
   "id": "cd4e605a",
   "metadata": {},
   "outputs": [],
   "source": []
  },
  {
   "cell_type": "code",
   "execution_count": null,
   "id": "3756a1b8",
   "metadata": {},
   "outputs": [],
   "source": []
  },
  {
   "cell_type": "code",
   "execution_count": null,
   "id": "1ee17dce",
   "metadata": {},
   "outputs": [],
   "source": []
  },
  {
   "cell_type": "code",
   "execution_count": null,
   "id": "8f1d69da",
   "metadata": {},
   "outputs": [],
   "source": []
  },
  {
   "cell_type": "code",
   "execution_count": null,
   "id": "ddbfc5d4",
   "metadata": {},
   "outputs": [],
   "source": []
  },
  {
   "cell_type": "code",
   "execution_count": null,
   "id": "43084282",
   "metadata": {},
   "outputs": [],
   "source": []
  },
  {
   "cell_type": "code",
   "execution_count": null,
   "id": "ac954dcb",
   "metadata": {},
   "outputs": [],
   "source": []
  },
  {
   "cell_type": "code",
   "execution_count": null,
   "id": "eaffe998",
   "metadata": {},
   "outputs": [],
   "source": []
  },
  {
   "cell_type": "code",
   "execution_count": null,
   "id": "3fdc4941",
   "metadata": {},
   "outputs": [],
   "source": []
  },
  {
   "cell_type": "code",
   "execution_count": null,
   "id": "a898ecf2",
   "metadata": {},
   "outputs": [],
   "source": []
  },
  {
   "cell_type": "code",
   "execution_count": null,
   "id": "2ba11e2e",
   "metadata": {},
   "outputs": [],
   "source": []
  },
  {
   "cell_type": "code",
   "execution_count": null,
   "id": "76dc08be",
   "metadata": {},
   "outputs": [],
   "source": []
  },
  {
   "cell_type": "code",
   "execution_count": null,
   "id": "877609b8",
   "metadata": {},
   "outputs": [],
   "source": []
  },
  {
   "cell_type": "code",
   "execution_count": null,
   "id": "ddfd6fbc",
   "metadata": {},
   "outputs": [],
   "source": []
  },
  {
   "cell_type": "code",
   "execution_count": null,
   "id": "cde0c9b8",
   "metadata": {},
   "outputs": [],
   "source": []
  }
 ],
 "metadata": {
  "kernelspec": {
   "display_name": "Python 3 (ipykernel)",
   "language": "python",
   "name": "python3"
  },
  "language_info": {
   "codemirror_mode": {
    "name": "ipython",
    "version": 3
   },
   "file_extension": ".py",
   "mimetype": "text/x-python",
   "name": "python",
   "nbconvert_exporter": "python",
   "pygments_lexer": "ipython3",
   "version": "3.9.13"
  }
 },
 "nbformat": 4,
 "nbformat_minor": 5
}
