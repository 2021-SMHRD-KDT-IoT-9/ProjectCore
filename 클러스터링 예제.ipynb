{
 "cells": [
  {
   "cell_type": "code",
   "execution_count": 11,
   "id": "29cda54d",
   "metadata": {},
   "outputs": [],
   "source": [
    "from sklearn.cluster import KMeans\n",
    "import pandas as pd\n",
    "from matplotlib import pyplot as plt"
   ]
  },
  {
   "cell_type": "code",
   "execution_count": 2,
   "id": "d64a3d36",
   "metadata": {},
   "outputs": [],
   "source": [
    "data = pd.read_csv('power_consumption_data.csv')"
   ]
  },
  {
   "cell_type": "code",
   "execution_count": 3,
   "id": "f4932031",
   "metadata": {},
   "outputs": [],
   "source": [
    "data1 = data[['power_consumption']]"
   ]
  },
  {
   "cell_type": "code",
   "execution_count": 4,
   "id": "155279e0",
   "metadata": {},
   "outputs": [],
   "source": [
    "\n",
    "\n",
    "# 예시 데이터\n",
    "# data = [[1], [1.5], [3], [5], [3.5], [4], [3.8], [6], [8], [7.5], [9]]\n",
    "\n",
    "# KMeans 모델 초기화\n",
    "kmeans = KMeans(n_clusters=3, random_state=0)\n",
    "\n",
    "# 모델 학습\n",
    "kmeans.fit(data1)\n",
    "\n",
    "# 클러스터링 결과 출력\n",
    "clust_list = []\n",
    "for i, label in enumerate(kmeans.labels_):\n",
    "    clust_list.append(label+1)    \n"
   ]
  },
  {
   "cell_type": "code",
   "execution_count": 5,
   "id": "3d6502f2",
   "metadata": {},
   "outputs": [],
   "source": [
    "clust_s = pd.Series(clust_list)\n",
    "clust_s.name = \"power_clust\""
   ]
  },
  {
   "cell_type": "code",
   "execution_count": 6,
   "id": "2be74574",
   "metadata": {},
   "outputs": [
    {
     "data": {
      "text/plain": [
       "2    30600\n",
       "1     6323\n",
       "3     6277\n",
       "Name: power_clust, dtype: int64"
      ]
     },
     "execution_count": 6,
     "metadata": {},
     "output_type": "execute_result"
    }
   ],
   "source": [
    "clust_s.value_counts()"
   ]
  },
  {
   "cell_type": "code",
   "execution_count": 7,
   "id": "ac4f49f6",
   "metadata": {},
   "outputs": [],
   "source": [
    "rs = pd.concat([data, clust_s], axis = 1)"
   ]
  },
  {
   "cell_type": "code",
   "execution_count": 17,
   "id": "14aca09a",
   "metadata": {},
   "outputs": [
    {
     "data": {
      "text/html": [
       "<div>\n",
       "<style scoped>\n",
       "    .dataframe tbody tr th:only-of-type {\n",
       "        vertical-align: middle;\n",
       "    }\n",
       "\n",
       "    .dataframe tbody tr th {\n",
       "        vertical-align: top;\n",
       "    }\n",
       "\n",
       "    .dataframe thead th {\n",
       "        text-align: right;\n",
       "    }\n",
       "</style>\n",
       "<table border=\"1\" class=\"dataframe\">\n",
       "  <thead>\n",
       "    <tr style=\"text-align: right;\">\n",
       "      <th></th>\n",
       "      <th>datetime</th>\n",
       "      <th>power_consumption</th>\n",
       "      <th>power_clust</th>\n",
       "    </tr>\n",
       "  </thead>\n",
       "  <tbody>\n",
       "    <tr>\n",
       "      <th>0</th>\n",
       "      <td>2023-03-01 00:00:00</td>\n",
       "      <td>6.980809</td>\n",
       "      <td>2</td>\n",
       "    </tr>\n",
       "    <tr>\n",
       "      <th>1</th>\n",
       "      <td>2023-03-01 00:01:00</td>\n",
       "      <td>-2.652386</td>\n",
       "      <td>2</td>\n",
       "    </tr>\n",
       "    <tr>\n",
       "      <th>2</th>\n",
       "      <td>2023-03-01 00:02:00</td>\n",
       "      <td>2.013183</td>\n",
       "      <td>2</td>\n",
       "    </tr>\n",
       "    <tr>\n",
       "      <th>3</th>\n",
       "      <td>2023-03-01 00:03:00</td>\n",
       "      <td>3.284021</td>\n",
       "      <td>2</td>\n",
       "    </tr>\n",
       "    <tr>\n",
       "      <th>4</th>\n",
       "      <td>2023-03-01 00:04:00</td>\n",
       "      <td>-0.092978</td>\n",
       "      <td>2</td>\n",
       "    </tr>\n",
       "    <tr>\n",
       "      <th>...</th>\n",
       "      <td>...</td>\n",
       "      <td>...</td>\n",
       "      <td>...</td>\n",
       "    </tr>\n",
       "    <tr>\n",
       "      <th>43195</th>\n",
       "      <td>2023-03-30 23:55:00</td>\n",
       "      <td>0.167326</td>\n",
       "      <td>2</td>\n",
       "    </tr>\n",
       "    <tr>\n",
       "      <th>43196</th>\n",
       "      <td>2023-03-30 23:56:00</td>\n",
       "      <td>6.907141</td>\n",
       "      <td>2</td>\n",
       "    </tr>\n",
       "    <tr>\n",
       "      <th>43197</th>\n",
       "      <td>2023-03-30 23:57:00</td>\n",
       "      <td>9.159460</td>\n",
       "      <td>2</td>\n",
       "    </tr>\n",
       "    <tr>\n",
       "      <th>43198</th>\n",
       "      <td>2023-03-30 23:58:00</td>\n",
       "      <td>-1.909573</td>\n",
       "      <td>2</td>\n",
       "    </tr>\n",
       "    <tr>\n",
       "      <th>43199</th>\n",
       "      <td>2023-03-30 23:59:00</td>\n",
       "      <td>-0.493274</td>\n",
       "      <td>2</td>\n",
       "    </tr>\n",
       "  </tbody>\n",
       "</table>\n",
       "<p>43200 rows × 3 columns</p>\n",
       "</div>"
      ],
      "text/plain": [
       "                  datetime  power_consumption  power_clust\n",
       "0      2023-03-01 00:00:00           6.980809            2\n",
       "1      2023-03-01 00:01:00          -2.652386            2\n",
       "2      2023-03-01 00:02:00           2.013183            2\n",
       "3      2023-03-01 00:03:00           3.284021            2\n",
       "4      2023-03-01 00:04:00          -0.092978            2\n",
       "...                    ...                ...          ...\n",
       "43195  2023-03-30 23:55:00           0.167326            2\n",
       "43196  2023-03-30 23:56:00           6.907141            2\n",
       "43197  2023-03-30 23:57:00           9.159460            2\n",
       "43198  2023-03-30 23:58:00          -1.909573            2\n",
       "43199  2023-03-30 23:59:00          -0.493274            2\n",
       "\n",
       "[43200 rows x 3 columns]"
      ]
     },
     "execution_count": 17,
     "metadata": {},
     "output_type": "execute_result"
    }
   ],
   "source": [
    "rs"
   ]
  },
  {
   "cell_type": "code",
   "execution_count": null,
   "id": "fa65ac87",
   "metadata": {},
   "outputs": [],
   "source": []
  }
 ],
 "metadata": {
  "kernelspec": {
   "display_name": "Python 3 (ipykernel)",
   "language": "python",
   "name": "python3"
  },
  "language_info": {
   "codemirror_mode": {
    "name": "ipython",
    "version": 3
   },
   "file_extension": ".py",
   "mimetype": "text/x-python",
   "name": "python",
   "nbconvert_exporter": "python",
   "pygments_lexer": "ipython3",
   "version": "3.9.13"
  }
 },
 "nbformat": 4,
 "nbformat_minor": 5
}
